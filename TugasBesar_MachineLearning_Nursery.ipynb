{
  "cells": [
    {
      "cell_type": "code",
      "execution_count": 1,
      "metadata": {
        "colab": {
          "base_uri": "https://localhost:8080/"
        },
        "id": "By7piUYdj6bS",
        "outputId": "567f9835-300d-45d6-ba73-c8b230150a50"
      },
      "outputs": [
        {
          "output_type": "stream",
          "name": "stdout",
          "text": [
            "Collecting ucimlrepo\n",
            "  Downloading ucimlrepo-0.0.7-py3-none-any.whl.metadata (5.5 kB)\n",
            "Requirement already satisfied: pandas>=1.0.0 in /usr/local/lib/python3.11/dist-packages (from ucimlrepo) (2.2.2)\n",
            "Requirement already satisfied: certifi>=2020.12.5 in /usr/local/lib/python3.11/dist-packages (from ucimlrepo) (2025.4.26)\n",
            "Requirement already satisfied: numpy>=1.23.2 in /usr/local/lib/python3.11/dist-packages (from pandas>=1.0.0->ucimlrepo) (2.0.2)\n",
            "Requirement already satisfied: python-dateutil>=2.8.2 in /usr/local/lib/python3.11/dist-packages (from pandas>=1.0.0->ucimlrepo) (2.9.0.post0)\n",
            "Requirement already satisfied: pytz>=2020.1 in /usr/local/lib/python3.11/dist-packages (from pandas>=1.0.0->ucimlrepo) (2025.2)\n",
            "Requirement already satisfied: tzdata>=2022.7 in /usr/local/lib/python3.11/dist-packages (from pandas>=1.0.0->ucimlrepo) (2025.2)\n",
            "Requirement already satisfied: six>=1.5 in /usr/local/lib/python3.11/dist-packages (from python-dateutil>=2.8.2->pandas>=1.0.0->ucimlrepo) (1.17.0)\n",
            "Downloading ucimlrepo-0.0.7-py3-none-any.whl (8.0 kB)\n",
            "Installing collected packages: ucimlrepo\n",
            "Successfully installed ucimlrepo-0.0.7\n"
          ]
        }
      ],
      "source": [
        "!pip install ucimlrepo"
      ]
    },
    {
      "cell_type": "code",
      "execution_count": 2,
      "metadata": {
        "id": "eCVNsMPumQfO"
      },
      "outputs": [],
      "source": [
        "import pandas as pd\n",
        "import numpy as np\n",
        "from sklearn.model_selection import train_test_split\n",
        "from imblearn.over_sampling import SMOTE\n",
        "from sklearn.pipeline import Pipeline\n",
        "from sklearn.preprocessing import StandardScaler\n",
        "from sklearn.linear_model import LogisticRegression\n",
        "from sklearn.svm import SVC\n",
        "from sklearn.neural_network import MLPClassifier\n",
        "import matplotlib.pyplot as plt\n",
        "import seaborn as sns\n",
        "from sklearn.metrics import accuracy_score, classification_report, confusion_matrix, ConfusionMatrixDisplay, roc_curve, auc\n",
        "from sklearn.preprocessing import label_binarize"
      ]
    },
    {
      "cell_type": "markdown",
      "metadata": {
        "id": "GuKUnuysQQSH"
      },
      "source": [
        "# Data Preprocessing"
      ]
    },
    {
      "cell_type": "code",
      "execution_count": 3,
      "metadata": {
        "id": "D91qJQGzmhCk"
      },
      "outputs": [],
      "source": [
        "from ucimlrepo import fetch_ucirepo\n",
        "\n",
        "# fetch dataset\n",
        "nursery = fetch_ucirepo(id=76)\n",
        "\n",
        "# data (as pandas dataframes)\n",
        "X = nursery.data.features\n",
        "y = nursery.data.targets"
      ]
    },
    {
      "cell_type": "code",
      "execution_count": 4,
      "metadata": {
        "colab": {
          "base_uri": "https://localhost:8080/",
          "height": 363
        },
        "id": "cBHRh-NkQOmw",
        "outputId": "3dd12cb7-69e7-4318-c37e-a0423339fdfd"
      },
      "outputs": [
        {
          "output_type": "execute_result",
          "data": {
            "text/plain": [
              "  parents has_nurs      form children     housing     finance         social  \\\n",
              "0   usual   proper  complete        1  convenient  convenient        nonprob   \n",
              "1   usual   proper  complete        1  convenient  convenient        nonprob   \n",
              "2   usual   proper  complete        1  convenient  convenient        nonprob   \n",
              "3   usual   proper  complete        1  convenient  convenient  slightly_prob   \n",
              "4   usual   proper  complete        1  convenient  convenient  slightly_prob   \n",
              "5   usual   proper  complete        1  convenient  convenient  slightly_prob   \n",
              "6   usual   proper  complete        1  convenient  convenient    problematic   \n",
              "7   usual   proper  complete        1  convenient  convenient    problematic   \n",
              "8   usual   proper  complete        1  convenient  convenient    problematic   \n",
              "9   usual   proper  complete        1  convenient      inconv        nonprob   \n",
              "\n",
              "        health  \n",
              "0  recommended  \n",
              "1     priority  \n",
              "2    not_recom  \n",
              "3  recommended  \n",
              "4     priority  \n",
              "5    not_recom  \n",
              "6  recommended  \n",
              "7     priority  \n",
              "8    not_recom  \n",
              "9  recommended  "
            ],
            "text/html": [
              "\n",
              "  <div id=\"df-498e2056-2c18-442e-b60c-c5aa2a86060b\" class=\"colab-df-container\">\n",
              "    <div>\n",
              "<style scoped>\n",
              "    .dataframe tbody tr th:only-of-type {\n",
              "        vertical-align: middle;\n",
              "    }\n",
              "\n",
              "    .dataframe tbody tr th {\n",
              "        vertical-align: top;\n",
              "    }\n",
              "\n",
              "    .dataframe thead th {\n",
              "        text-align: right;\n",
              "    }\n",
              "</style>\n",
              "<table border=\"1\" class=\"dataframe\">\n",
              "  <thead>\n",
              "    <tr style=\"text-align: right;\">\n",
              "      <th></th>\n",
              "      <th>parents</th>\n",
              "      <th>has_nurs</th>\n",
              "      <th>form</th>\n",
              "      <th>children</th>\n",
              "      <th>housing</th>\n",
              "      <th>finance</th>\n",
              "      <th>social</th>\n",
              "      <th>health</th>\n",
              "    </tr>\n",
              "  </thead>\n",
              "  <tbody>\n",
              "    <tr>\n",
              "      <th>0</th>\n",
              "      <td>usual</td>\n",
              "      <td>proper</td>\n",
              "      <td>complete</td>\n",
              "      <td>1</td>\n",
              "      <td>convenient</td>\n",
              "      <td>convenient</td>\n",
              "      <td>nonprob</td>\n",
              "      <td>recommended</td>\n",
              "    </tr>\n",
              "    <tr>\n",
              "      <th>1</th>\n",
              "      <td>usual</td>\n",
              "      <td>proper</td>\n",
              "      <td>complete</td>\n",
              "      <td>1</td>\n",
              "      <td>convenient</td>\n",
              "      <td>convenient</td>\n",
              "      <td>nonprob</td>\n",
              "      <td>priority</td>\n",
              "    </tr>\n",
              "    <tr>\n",
              "      <th>2</th>\n",
              "      <td>usual</td>\n",
              "      <td>proper</td>\n",
              "      <td>complete</td>\n",
              "      <td>1</td>\n",
              "      <td>convenient</td>\n",
              "      <td>convenient</td>\n",
              "      <td>nonprob</td>\n",
              "      <td>not_recom</td>\n",
              "    </tr>\n",
              "    <tr>\n",
              "      <th>3</th>\n",
              "      <td>usual</td>\n",
              "      <td>proper</td>\n",
              "      <td>complete</td>\n",
              "      <td>1</td>\n",
              "      <td>convenient</td>\n",
              "      <td>convenient</td>\n",
              "      <td>slightly_prob</td>\n",
              "      <td>recommended</td>\n",
              "    </tr>\n",
              "    <tr>\n",
              "      <th>4</th>\n",
              "      <td>usual</td>\n",
              "      <td>proper</td>\n",
              "      <td>complete</td>\n",
              "      <td>1</td>\n",
              "      <td>convenient</td>\n",
              "      <td>convenient</td>\n",
              "      <td>slightly_prob</td>\n",
              "      <td>priority</td>\n",
              "    </tr>\n",
              "    <tr>\n",
              "      <th>5</th>\n",
              "      <td>usual</td>\n",
              "      <td>proper</td>\n",
              "      <td>complete</td>\n",
              "      <td>1</td>\n",
              "      <td>convenient</td>\n",
              "      <td>convenient</td>\n",
              "      <td>slightly_prob</td>\n",
              "      <td>not_recom</td>\n",
              "    </tr>\n",
              "    <tr>\n",
              "      <th>6</th>\n",
              "      <td>usual</td>\n",
              "      <td>proper</td>\n",
              "      <td>complete</td>\n",
              "      <td>1</td>\n",
              "      <td>convenient</td>\n",
              "      <td>convenient</td>\n",
              "      <td>problematic</td>\n",
              "      <td>recommended</td>\n",
              "    </tr>\n",
              "    <tr>\n",
              "      <th>7</th>\n",
              "      <td>usual</td>\n",
              "      <td>proper</td>\n",
              "      <td>complete</td>\n",
              "      <td>1</td>\n",
              "      <td>convenient</td>\n",
              "      <td>convenient</td>\n",
              "      <td>problematic</td>\n",
              "      <td>priority</td>\n",
              "    </tr>\n",
              "    <tr>\n",
              "      <th>8</th>\n",
              "      <td>usual</td>\n",
              "      <td>proper</td>\n",
              "      <td>complete</td>\n",
              "      <td>1</td>\n",
              "      <td>convenient</td>\n",
              "      <td>convenient</td>\n",
              "      <td>problematic</td>\n",
              "      <td>not_recom</td>\n",
              "    </tr>\n",
              "    <tr>\n",
              "      <th>9</th>\n",
              "      <td>usual</td>\n",
              "      <td>proper</td>\n",
              "      <td>complete</td>\n",
              "      <td>1</td>\n",
              "      <td>convenient</td>\n",
              "      <td>inconv</td>\n",
              "      <td>nonprob</td>\n",
              "      <td>recommended</td>\n",
              "    </tr>\n",
              "  </tbody>\n",
              "</table>\n",
              "</div>\n",
              "    <div class=\"colab-df-buttons\">\n",
              "\n",
              "  <div class=\"colab-df-container\">\n",
              "    <button class=\"colab-df-convert\" onclick=\"convertToInteractive('df-498e2056-2c18-442e-b60c-c5aa2a86060b')\"\n",
              "            title=\"Convert this dataframe to an interactive table.\"\n",
              "            style=\"display:none;\">\n",
              "\n",
              "  <svg xmlns=\"http://www.w3.org/2000/svg\" height=\"24px\" viewBox=\"0 -960 960 960\">\n",
              "    <path d=\"M120-120v-720h720v720H120Zm60-500h600v-160H180v160Zm220 220h160v-160H400v160Zm0 220h160v-160H400v160ZM180-400h160v-160H180v160Zm440 0h160v-160H620v160ZM180-180h160v-160H180v160Zm440 0h160v-160H620v160Z\"/>\n",
              "  </svg>\n",
              "    </button>\n",
              "\n",
              "  <style>\n",
              "    .colab-df-container {\n",
              "      display:flex;\n",
              "      gap: 12px;\n",
              "    }\n",
              "\n",
              "    .colab-df-convert {\n",
              "      background-color: #E8F0FE;\n",
              "      border: none;\n",
              "      border-radius: 50%;\n",
              "      cursor: pointer;\n",
              "      display: none;\n",
              "      fill: #1967D2;\n",
              "      height: 32px;\n",
              "      padding: 0 0 0 0;\n",
              "      width: 32px;\n",
              "    }\n",
              "\n",
              "    .colab-df-convert:hover {\n",
              "      background-color: #E2EBFA;\n",
              "      box-shadow: 0px 1px 2px rgba(60, 64, 67, 0.3), 0px 1px 3px 1px rgba(60, 64, 67, 0.15);\n",
              "      fill: #174EA6;\n",
              "    }\n",
              "\n",
              "    .colab-df-buttons div {\n",
              "      margin-bottom: 4px;\n",
              "    }\n",
              "\n",
              "    [theme=dark] .colab-df-convert {\n",
              "      background-color: #3B4455;\n",
              "      fill: #D2E3FC;\n",
              "    }\n",
              "\n",
              "    [theme=dark] .colab-df-convert:hover {\n",
              "      background-color: #434B5C;\n",
              "      box-shadow: 0px 1px 3px 1px rgba(0, 0, 0, 0.15);\n",
              "      filter: drop-shadow(0px 1px 2px rgba(0, 0, 0, 0.3));\n",
              "      fill: #FFFFFF;\n",
              "    }\n",
              "  </style>\n",
              "\n",
              "    <script>\n",
              "      const buttonEl =\n",
              "        document.querySelector('#df-498e2056-2c18-442e-b60c-c5aa2a86060b button.colab-df-convert');\n",
              "      buttonEl.style.display =\n",
              "        google.colab.kernel.accessAllowed ? 'block' : 'none';\n",
              "\n",
              "      async function convertToInteractive(key) {\n",
              "        const element = document.querySelector('#df-498e2056-2c18-442e-b60c-c5aa2a86060b');\n",
              "        const dataTable =\n",
              "          await google.colab.kernel.invokeFunction('convertToInteractive',\n",
              "                                                    [key], {});\n",
              "        if (!dataTable) return;\n",
              "\n",
              "        const docLinkHtml = 'Like what you see? Visit the ' +\n",
              "          '<a target=\"_blank\" href=https://colab.research.google.com/notebooks/data_table.ipynb>data table notebook</a>'\n",
              "          + ' to learn more about interactive tables.';\n",
              "        element.innerHTML = '';\n",
              "        dataTable['output_type'] = 'display_data';\n",
              "        await google.colab.output.renderOutput(dataTable, element);\n",
              "        const docLink = document.createElement('div');\n",
              "        docLink.innerHTML = docLinkHtml;\n",
              "        element.appendChild(docLink);\n",
              "      }\n",
              "    </script>\n",
              "  </div>\n",
              "\n",
              "\n",
              "    <div id=\"df-0b69de5d-770c-4591-93ad-985ac37952f9\">\n",
              "      <button class=\"colab-df-quickchart\" onclick=\"quickchart('df-0b69de5d-770c-4591-93ad-985ac37952f9')\"\n",
              "                title=\"Suggest charts\"\n",
              "                style=\"display:none;\">\n",
              "\n",
              "<svg xmlns=\"http://www.w3.org/2000/svg\" height=\"24px\"viewBox=\"0 0 24 24\"\n",
              "     width=\"24px\">\n",
              "    <g>\n",
              "        <path d=\"M19 3H5c-1.1 0-2 .9-2 2v14c0 1.1.9 2 2 2h14c1.1 0 2-.9 2-2V5c0-1.1-.9-2-2-2zM9 17H7v-7h2v7zm4 0h-2V7h2v10zm4 0h-2v-4h2v4z\"/>\n",
              "    </g>\n",
              "</svg>\n",
              "      </button>\n",
              "\n",
              "<style>\n",
              "  .colab-df-quickchart {\n",
              "      --bg-color: #E8F0FE;\n",
              "      --fill-color: #1967D2;\n",
              "      --hover-bg-color: #E2EBFA;\n",
              "      --hover-fill-color: #174EA6;\n",
              "      --disabled-fill-color: #AAA;\n",
              "      --disabled-bg-color: #DDD;\n",
              "  }\n",
              "\n",
              "  [theme=dark] .colab-df-quickchart {\n",
              "      --bg-color: #3B4455;\n",
              "      --fill-color: #D2E3FC;\n",
              "      --hover-bg-color: #434B5C;\n",
              "      --hover-fill-color: #FFFFFF;\n",
              "      --disabled-bg-color: #3B4455;\n",
              "      --disabled-fill-color: #666;\n",
              "  }\n",
              "\n",
              "  .colab-df-quickchart {\n",
              "    background-color: var(--bg-color);\n",
              "    border: none;\n",
              "    border-radius: 50%;\n",
              "    cursor: pointer;\n",
              "    display: none;\n",
              "    fill: var(--fill-color);\n",
              "    height: 32px;\n",
              "    padding: 0;\n",
              "    width: 32px;\n",
              "  }\n",
              "\n",
              "  .colab-df-quickchart:hover {\n",
              "    background-color: var(--hover-bg-color);\n",
              "    box-shadow: 0 1px 2px rgba(60, 64, 67, 0.3), 0 1px 3px 1px rgba(60, 64, 67, 0.15);\n",
              "    fill: var(--button-hover-fill-color);\n",
              "  }\n",
              "\n",
              "  .colab-df-quickchart-complete:disabled,\n",
              "  .colab-df-quickchart-complete:disabled:hover {\n",
              "    background-color: var(--disabled-bg-color);\n",
              "    fill: var(--disabled-fill-color);\n",
              "    box-shadow: none;\n",
              "  }\n",
              "\n",
              "  .colab-df-spinner {\n",
              "    border: 2px solid var(--fill-color);\n",
              "    border-color: transparent;\n",
              "    border-bottom-color: var(--fill-color);\n",
              "    animation:\n",
              "      spin 1s steps(1) infinite;\n",
              "  }\n",
              "\n",
              "  @keyframes spin {\n",
              "    0% {\n",
              "      border-color: transparent;\n",
              "      border-bottom-color: var(--fill-color);\n",
              "      border-left-color: var(--fill-color);\n",
              "    }\n",
              "    20% {\n",
              "      border-color: transparent;\n",
              "      border-left-color: var(--fill-color);\n",
              "      border-top-color: var(--fill-color);\n",
              "    }\n",
              "    30% {\n",
              "      border-color: transparent;\n",
              "      border-left-color: var(--fill-color);\n",
              "      border-top-color: var(--fill-color);\n",
              "      border-right-color: var(--fill-color);\n",
              "    }\n",
              "    40% {\n",
              "      border-color: transparent;\n",
              "      border-right-color: var(--fill-color);\n",
              "      border-top-color: var(--fill-color);\n",
              "    }\n",
              "    60% {\n",
              "      border-color: transparent;\n",
              "      border-right-color: var(--fill-color);\n",
              "    }\n",
              "    80% {\n",
              "      border-color: transparent;\n",
              "      border-right-color: var(--fill-color);\n",
              "      border-bottom-color: var(--fill-color);\n",
              "    }\n",
              "    90% {\n",
              "      border-color: transparent;\n",
              "      border-bottom-color: var(--fill-color);\n",
              "    }\n",
              "  }\n",
              "</style>\n",
              "\n",
              "      <script>\n",
              "        async function quickchart(key) {\n",
              "          const quickchartButtonEl =\n",
              "            document.querySelector('#' + key + ' button');\n",
              "          quickchartButtonEl.disabled = true;  // To prevent multiple clicks.\n",
              "          quickchartButtonEl.classList.add('colab-df-spinner');\n",
              "          try {\n",
              "            const charts = await google.colab.kernel.invokeFunction(\n",
              "                'suggestCharts', [key], {});\n",
              "          } catch (error) {\n",
              "            console.error('Error during call to suggestCharts:', error);\n",
              "          }\n",
              "          quickchartButtonEl.classList.remove('colab-df-spinner');\n",
              "          quickchartButtonEl.classList.add('colab-df-quickchart-complete');\n",
              "        }\n",
              "        (() => {\n",
              "          let quickchartButtonEl =\n",
              "            document.querySelector('#df-0b69de5d-770c-4591-93ad-985ac37952f9 button');\n",
              "          quickchartButtonEl.style.display =\n",
              "            google.colab.kernel.accessAllowed ? 'block' : 'none';\n",
              "        })();\n",
              "      </script>\n",
              "    </div>\n",
              "\n",
              "    </div>\n",
              "  </div>\n"
            ],
            "application/vnd.google.colaboratory.intrinsic+json": {
              "type": "dataframe",
              "variable_name": "X",
              "summary": "{\n  \"name\": \"X\",\n  \"rows\": 12960,\n  \"fields\": [\n    {\n      \"column\": \"parents\",\n      \"properties\": {\n        \"dtype\": \"category\",\n        \"num_unique_values\": 3,\n        \"samples\": [\n          \"usual\",\n          \"pretentious\",\n          \"great_pret\"\n        ],\n        \"semantic_type\": \"\",\n        \"description\": \"\"\n      }\n    },\n    {\n      \"column\": \"has_nurs\",\n      \"properties\": {\n        \"dtype\": \"category\",\n        \"num_unique_values\": 5,\n        \"samples\": [\n          \"less_proper\",\n          \"very_crit\",\n          \"improper\"\n        ],\n        \"semantic_type\": \"\",\n        \"description\": \"\"\n      }\n    },\n    {\n      \"column\": \"form\",\n      \"properties\": {\n        \"dtype\": \"category\",\n        \"num_unique_values\": 4,\n        \"samples\": [\n          \"completed\",\n          \"foster\",\n          \"complete\"\n        ],\n        \"semantic_type\": \"\",\n        \"description\": \"\"\n      }\n    },\n    {\n      \"column\": \"children\",\n      \"properties\": {\n        \"dtype\": \"category\",\n        \"num_unique_values\": 4,\n        \"samples\": [\n          \"2\",\n          \"more\",\n          \"1\"\n        ],\n        \"semantic_type\": \"\",\n        \"description\": \"\"\n      }\n    },\n    {\n      \"column\": \"housing\",\n      \"properties\": {\n        \"dtype\": \"category\",\n        \"num_unique_values\": 3,\n        \"samples\": [\n          \"convenient\",\n          \"less_conv\",\n          \"critical\"\n        ],\n        \"semantic_type\": \"\",\n        \"description\": \"\"\n      }\n    },\n    {\n      \"column\": \"finance\",\n      \"properties\": {\n        \"dtype\": \"category\",\n        \"num_unique_values\": 2,\n        \"samples\": [\n          \"inconv\",\n          \"convenient\"\n        ],\n        \"semantic_type\": \"\",\n        \"description\": \"\"\n      }\n    },\n    {\n      \"column\": \"social\",\n      \"properties\": {\n        \"dtype\": \"category\",\n        \"num_unique_values\": 3,\n        \"samples\": [\n          \"nonprob\",\n          \"slightly_prob\"\n        ],\n        \"semantic_type\": \"\",\n        \"description\": \"\"\n      }\n    },\n    {\n      \"column\": \"health\",\n      \"properties\": {\n        \"dtype\": \"category\",\n        \"num_unique_values\": 3,\n        \"samples\": [\n          \"recommended\",\n          \"priority\"\n        ],\n        \"semantic_type\": \"\",\n        \"description\": \"\"\n      }\n    }\n  ]\n}"
            }
          },
          "metadata": {},
          "execution_count": 4
        }
      ],
      "source": [
        "# menampilkan 10 data fitur teratas\n",
        "X.head(10)"
      ]
    },
    {
      "cell_type": "code",
      "execution_count": 5,
      "metadata": {
        "colab": {
          "base_uri": "https://localhost:8080/",
          "height": 363
        },
        "id": "rdHPk9VBSJiX",
        "outputId": "fd73aca9-df4c-42f9-9a11-d32aeb026f32"
      },
      "outputs": [
        {
          "output_type": "execute_result",
          "data": {
            "text/plain": [
              "        class\n",
              "0   recommend\n",
              "1    priority\n",
              "2   not_recom\n",
              "3   recommend\n",
              "4    priority\n",
              "5   not_recom\n",
              "6    priority\n",
              "7    priority\n",
              "8   not_recom\n",
              "9  very_recom"
            ],
            "text/html": [
              "\n",
              "  <div id=\"df-38219957-16a0-44f3-94be-7ebebcb3901d\" class=\"colab-df-container\">\n",
              "    <div>\n",
              "<style scoped>\n",
              "    .dataframe tbody tr th:only-of-type {\n",
              "        vertical-align: middle;\n",
              "    }\n",
              "\n",
              "    .dataframe tbody tr th {\n",
              "        vertical-align: top;\n",
              "    }\n",
              "\n",
              "    .dataframe thead th {\n",
              "        text-align: right;\n",
              "    }\n",
              "</style>\n",
              "<table border=\"1\" class=\"dataframe\">\n",
              "  <thead>\n",
              "    <tr style=\"text-align: right;\">\n",
              "      <th></th>\n",
              "      <th>class</th>\n",
              "    </tr>\n",
              "  </thead>\n",
              "  <tbody>\n",
              "    <tr>\n",
              "      <th>0</th>\n",
              "      <td>recommend</td>\n",
              "    </tr>\n",
              "    <tr>\n",
              "      <th>1</th>\n",
              "      <td>priority</td>\n",
              "    </tr>\n",
              "    <tr>\n",
              "      <th>2</th>\n",
              "      <td>not_recom</td>\n",
              "    </tr>\n",
              "    <tr>\n",
              "      <th>3</th>\n",
              "      <td>recommend</td>\n",
              "    </tr>\n",
              "    <tr>\n",
              "      <th>4</th>\n",
              "      <td>priority</td>\n",
              "    </tr>\n",
              "    <tr>\n",
              "      <th>5</th>\n",
              "      <td>not_recom</td>\n",
              "    </tr>\n",
              "    <tr>\n",
              "      <th>6</th>\n",
              "      <td>priority</td>\n",
              "    </tr>\n",
              "    <tr>\n",
              "      <th>7</th>\n",
              "      <td>priority</td>\n",
              "    </tr>\n",
              "    <tr>\n",
              "      <th>8</th>\n",
              "      <td>not_recom</td>\n",
              "    </tr>\n",
              "    <tr>\n",
              "      <th>9</th>\n",
              "      <td>very_recom</td>\n",
              "    </tr>\n",
              "  </tbody>\n",
              "</table>\n",
              "</div>\n",
              "    <div class=\"colab-df-buttons\">\n",
              "\n",
              "  <div class=\"colab-df-container\">\n",
              "    <button class=\"colab-df-convert\" onclick=\"convertToInteractive('df-38219957-16a0-44f3-94be-7ebebcb3901d')\"\n",
              "            title=\"Convert this dataframe to an interactive table.\"\n",
              "            style=\"display:none;\">\n",
              "\n",
              "  <svg xmlns=\"http://www.w3.org/2000/svg\" height=\"24px\" viewBox=\"0 -960 960 960\">\n",
              "    <path d=\"M120-120v-720h720v720H120Zm60-500h600v-160H180v160Zm220 220h160v-160H400v160Zm0 220h160v-160H400v160ZM180-400h160v-160H180v160Zm440 0h160v-160H620v160ZM180-180h160v-160H180v160Zm440 0h160v-160H620v160Z\"/>\n",
              "  </svg>\n",
              "    </button>\n",
              "\n",
              "  <style>\n",
              "    .colab-df-container {\n",
              "      display:flex;\n",
              "      gap: 12px;\n",
              "    }\n",
              "\n",
              "    .colab-df-convert {\n",
              "      background-color: #E8F0FE;\n",
              "      border: none;\n",
              "      border-radius: 50%;\n",
              "      cursor: pointer;\n",
              "      display: none;\n",
              "      fill: #1967D2;\n",
              "      height: 32px;\n",
              "      padding: 0 0 0 0;\n",
              "      width: 32px;\n",
              "    }\n",
              "\n",
              "    .colab-df-convert:hover {\n",
              "      background-color: #E2EBFA;\n",
              "      box-shadow: 0px 1px 2px rgba(60, 64, 67, 0.3), 0px 1px 3px 1px rgba(60, 64, 67, 0.15);\n",
              "      fill: #174EA6;\n",
              "    }\n",
              "\n",
              "    .colab-df-buttons div {\n",
              "      margin-bottom: 4px;\n",
              "    }\n",
              "\n",
              "    [theme=dark] .colab-df-convert {\n",
              "      background-color: #3B4455;\n",
              "      fill: #D2E3FC;\n",
              "    }\n",
              "\n",
              "    [theme=dark] .colab-df-convert:hover {\n",
              "      background-color: #434B5C;\n",
              "      box-shadow: 0px 1px 3px 1px rgba(0, 0, 0, 0.15);\n",
              "      filter: drop-shadow(0px 1px 2px rgba(0, 0, 0, 0.3));\n",
              "      fill: #FFFFFF;\n",
              "    }\n",
              "  </style>\n",
              "\n",
              "    <script>\n",
              "      const buttonEl =\n",
              "        document.querySelector('#df-38219957-16a0-44f3-94be-7ebebcb3901d button.colab-df-convert');\n",
              "      buttonEl.style.display =\n",
              "        google.colab.kernel.accessAllowed ? 'block' : 'none';\n",
              "\n",
              "      async function convertToInteractive(key) {\n",
              "        const element = document.querySelector('#df-38219957-16a0-44f3-94be-7ebebcb3901d');\n",
              "        const dataTable =\n",
              "          await google.colab.kernel.invokeFunction('convertToInteractive',\n",
              "                                                    [key], {});\n",
              "        if (!dataTable) return;\n",
              "\n",
              "        const docLinkHtml = 'Like what you see? Visit the ' +\n",
              "          '<a target=\"_blank\" href=https://colab.research.google.com/notebooks/data_table.ipynb>data table notebook</a>'\n",
              "          + ' to learn more about interactive tables.';\n",
              "        element.innerHTML = '';\n",
              "        dataTable['output_type'] = 'display_data';\n",
              "        await google.colab.output.renderOutput(dataTable, element);\n",
              "        const docLink = document.createElement('div');\n",
              "        docLink.innerHTML = docLinkHtml;\n",
              "        element.appendChild(docLink);\n",
              "      }\n",
              "    </script>\n",
              "  </div>\n",
              "\n",
              "\n",
              "    <div id=\"df-a8c4a9e8-fa2b-4a18-bcd3-8239a391a8a9\">\n",
              "      <button class=\"colab-df-quickchart\" onclick=\"quickchart('df-a8c4a9e8-fa2b-4a18-bcd3-8239a391a8a9')\"\n",
              "                title=\"Suggest charts\"\n",
              "                style=\"display:none;\">\n",
              "\n",
              "<svg xmlns=\"http://www.w3.org/2000/svg\" height=\"24px\"viewBox=\"0 0 24 24\"\n",
              "     width=\"24px\">\n",
              "    <g>\n",
              "        <path d=\"M19 3H5c-1.1 0-2 .9-2 2v14c0 1.1.9 2 2 2h14c1.1 0 2-.9 2-2V5c0-1.1-.9-2-2-2zM9 17H7v-7h2v7zm4 0h-2V7h2v10zm4 0h-2v-4h2v4z\"/>\n",
              "    </g>\n",
              "</svg>\n",
              "      </button>\n",
              "\n",
              "<style>\n",
              "  .colab-df-quickchart {\n",
              "      --bg-color: #E8F0FE;\n",
              "      --fill-color: #1967D2;\n",
              "      --hover-bg-color: #E2EBFA;\n",
              "      --hover-fill-color: #174EA6;\n",
              "      --disabled-fill-color: #AAA;\n",
              "      --disabled-bg-color: #DDD;\n",
              "  }\n",
              "\n",
              "  [theme=dark] .colab-df-quickchart {\n",
              "      --bg-color: #3B4455;\n",
              "      --fill-color: #D2E3FC;\n",
              "      --hover-bg-color: #434B5C;\n",
              "      --hover-fill-color: #FFFFFF;\n",
              "      --disabled-bg-color: #3B4455;\n",
              "      --disabled-fill-color: #666;\n",
              "  }\n",
              "\n",
              "  .colab-df-quickchart {\n",
              "    background-color: var(--bg-color);\n",
              "    border: none;\n",
              "    border-radius: 50%;\n",
              "    cursor: pointer;\n",
              "    display: none;\n",
              "    fill: var(--fill-color);\n",
              "    height: 32px;\n",
              "    padding: 0;\n",
              "    width: 32px;\n",
              "  }\n",
              "\n",
              "  .colab-df-quickchart:hover {\n",
              "    background-color: var(--hover-bg-color);\n",
              "    box-shadow: 0 1px 2px rgba(60, 64, 67, 0.3), 0 1px 3px 1px rgba(60, 64, 67, 0.15);\n",
              "    fill: var(--button-hover-fill-color);\n",
              "  }\n",
              "\n",
              "  .colab-df-quickchart-complete:disabled,\n",
              "  .colab-df-quickchart-complete:disabled:hover {\n",
              "    background-color: var(--disabled-bg-color);\n",
              "    fill: var(--disabled-fill-color);\n",
              "    box-shadow: none;\n",
              "  }\n",
              "\n",
              "  .colab-df-spinner {\n",
              "    border: 2px solid var(--fill-color);\n",
              "    border-color: transparent;\n",
              "    border-bottom-color: var(--fill-color);\n",
              "    animation:\n",
              "      spin 1s steps(1) infinite;\n",
              "  }\n",
              "\n",
              "  @keyframes spin {\n",
              "    0% {\n",
              "      border-color: transparent;\n",
              "      border-bottom-color: var(--fill-color);\n",
              "      border-left-color: var(--fill-color);\n",
              "    }\n",
              "    20% {\n",
              "      border-color: transparent;\n",
              "      border-left-color: var(--fill-color);\n",
              "      border-top-color: var(--fill-color);\n",
              "    }\n",
              "    30% {\n",
              "      border-color: transparent;\n",
              "      border-left-color: var(--fill-color);\n",
              "      border-top-color: var(--fill-color);\n",
              "      border-right-color: var(--fill-color);\n",
              "    }\n",
              "    40% {\n",
              "      border-color: transparent;\n",
              "      border-right-color: var(--fill-color);\n",
              "      border-top-color: var(--fill-color);\n",
              "    }\n",
              "    60% {\n",
              "      border-color: transparent;\n",
              "      border-right-color: var(--fill-color);\n",
              "    }\n",
              "    80% {\n",
              "      border-color: transparent;\n",
              "      border-right-color: var(--fill-color);\n",
              "      border-bottom-color: var(--fill-color);\n",
              "    }\n",
              "    90% {\n",
              "      border-color: transparent;\n",
              "      border-bottom-color: var(--fill-color);\n",
              "    }\n",
              "  }\n",
              "</style>\n",
              "\n",
              "      <script>\n",
              "        async function quickchart(key) {\n",
              "          const quickchartButtonEl =\n",
              "            document.querySelector('#' + key + ' button');\n",
              "          quickchartButtonEl.disabled = true;  // To prevent multiple clicks.\n",
              "          quickchartButtonEl.classList.add('colab-df-spinner');\n",
              "          try {\n",
              "            const charts = await google.colab.kernel.invokeFunction(\n",
              "                'suggestCharts', [key], {});\n",
              "          } catch (error) {\n",
              "            console.error('Error during call to suggestCharts:', error);\n",
              "          }\n",
              "          quickchartButtonEl.classList.remove('colab-df-spinner');\n",
              "          quickchartButtonEl.classList.add('colab-df-quickchart-complete');\n",
              "        }\n",
              "        (() => {\n",
              "          let quickchartButtonEl =\n",
              "            document.querySelector('#df-a8c4a9e8-fa2b-4a18-bcd3-8239a391a8a9 button');\n",
              "          quickchartButtonEl.style.display =\n",
              "            google.colab.kernel.accessAllowed ? 'block' : 'none';\n",
              "        })();\n",
              "      </script>\n",
              "    </div>\n",
              "\n",
              "    </div>\n",
              "  </div>\n"
            ],
            "application/vnd.google.colaboratory.intrinsic+json": {
              "type": "dataframe",
              "variable_name": "y",
              "summary": "{\n  \"name\": \"y\",\n  \"rows\": 12960,\n  \"fields\": [\n    {\n      \"column\": \"class\",\n      \"properties\": {\n        \"dtype\": \"category\",\n        \"num_unique_values\": 5,\n        \"samples\": [\n          \"priority\",\n          \"spec_prior\",\n          \"not_recom\"\n        ],\n        \"semantic_type\": \"\",\n        \"description\": \"\"\n      }\n    }\n  ]\n}"
            }
          },
          "metadata": {},
          "execution_count": 5
        }
      ],
      "source": [
        "# menampilkan 10 data target pertama\n",
        "y.head(10)"
      ]
    },
    {
      "cell_type": "code",
      "execution_count": 6,
      "metadata": {
        "colab": {
          "base_uri": "https://localhost:8080/",
          "height": 272
        },
        "id": "H4A15PeWUsTn",
        "outputId": "142e9f6f-818a-444b-fa2f-39ac4ad69205"
      },
      "outputs": [
        {
          "output_type": "execute_result",
          "data": {
            "text/plain": [
              "class     \n",
              "not_recom     4320\n",
              "priority      4266\n",
              "spec_prior    4044\n",
              "very_recom     328\n",
              "recommend        2\n",
              "Name: count, dtype: int64"
            ],
            "text/html": [
              "<div>\n",
              "<style scoped>\n",
              "    .dataframe tbody tr th:only-of-type {\n",
              "        vertical-align: middle;\n",
              "    }\n",
              "\n",
              "    .dataframe tbody tr th {\n",
              "        vertical-align: top;\n",
              "    }\n",
              "\n",
              "    .dataframe thead th {\n",
              "        text-align: right;\n",
              "    }\n",
              "</style>\n",
              "<table border=\"1\" class=\"dataframe\">\n",
              "  <thead>\n",
              "    <tr style=\"text-align: right;\">\n",
              "      <th></th>\n",
              "      <th>count</th>\n",
              "    </tr>\n",
              "    <tr>\n",
              "      <th>class</th>\n",
              "      <th></th>\n",
              "    </tr>\n",
              "  </thead>\n",
              "  <tbody>\n",
              "    <tr>\n",
              "      <th>not_recom</th>\n",
              "      <td>4320</td>\n",
              "    </tr>\n",
              "    <tr>\n",
              "      <th>priority</th>\n",
              "      <td>4266</td>\n",
              "    </tr>\n",
              "    <tr>\n",
              "      <th>spec_prior</th>\n",
              "      <td>4044</td>\n",
              "    </tr>\n",
              "    <tr>\n",
              "      <th>very_recom</th>\n",
              "      <td>328</td>\n",
              "    </tr>\n",
              "    <tr>\n",
              "      <th>recommend</th>\n",
              "      <td>2</td>\n",
              "    </tr>\n",
              "  </tbody>\n",
              "</table>\n",
              "</div><br><label><b>dtype:</b> int64</label>"
            ]
          },
          "metadata": {},
          "execution_count": 6
        }
      ],
      "source": [
        "# jumlah data target tiap kelas\n",
        "y.value_counts()"
      ]
    },
    {
      "cell_type": "code",
      "execution_count": 7,
      "metadata": {
        "colab": {
          "base_uri": "https://localhost:8080/",
          "height": 241
        },
        "id": "7_7xJNNXrY8J",
        "outputId": "0b6c28b3-a2c3-4031-9316-5edbcab68dd9"
      },
      "outputs": [
        {
          "output_type": "execute_result",
          "data": {
            "text/plain": [
              "class     \n",
              "not_recom     4320\n",
              "priority      4266\n",
              "spec_prior    4044\n",
              "very_recom     328\n",
              "Name: count, dtype: int64"
            ],
            "text/html": [
              "<div>\n",
              "<style scoped>\n",
              "    .dataframe tbody tr th:only-of-type {\n",
              "        vertical-align: middle;\n",
              "    }\n",
              "\n",
              "    .dataframe tbody tr th {\n",
              "        vertical-align: top;\n",
              "    }\n",
              "\n",
              "    .dataframe thead th {\n",
              "        text-align: right;\n",
              "    }\n",
              "</style>\n",
              "<table border=\"1\" class=\"dataframe\">\n",
              "  <thead>\n",
              "    <tr style=\"text-align: right;\">\n",
              "      <th></th>\n",
              "      <th>count</th>\n",
              "    </tr>\n",
              "    <tr>\n",
              "      <th>class</th>\n",
              "      <th></th>\n",
              "    </tr>\n",
              "  </thead>\n",
              "  <tbody>\n",
              "    <tr>\n",
              "      <th>not_recom</th>\n",
              "      <td>4320</td>\n",
              "    </tr>\n",
              "    <tr>\n",
              "      <th>priority</th>\n",
              "      <td>4266</td>\n",
              "    </tr>\n",
              "    <tr>\n",
              "      <th>spec_prior</th>\n",
              "      <td>4044</td>\n",
              "    </tr>\n",
              "    <tr>\n",
              "      <th>very_recom</th>\n",
              "      <td>328</td>\n",
              "    </tr>\n",
              "  </tbody>\n",
              "</table>\n",
              "</div><br><label><b>dtype:</b> int64</label>"
            ]
          },
          "metadata": {},
          "execution_count": 7
        }
      ],
      "source": [
        "# menghapus baris data class 'recommend' karena datanya hanya 0.00015% dari dataset sehingga tidak mencukupi untuk proses training dan validasi model yang reliable\n",
        "X = X[y['class'] != 'recommend']\n",
        "y = y[y['class'] != 'recommend']\n",
        "y.value_counts()"
      ]
    },
    {
      "cell_type": "code",
      "execution_count": 8,
      "metadata": {
        "colab": {
          "base_uri": "https://localhost:8080/"
        },
        "id": "HFqvdgrigKjw",
        "outputId": "31642f65-5d99-4507-bb4b-299cb93f27f1"
      },
      "outputs": [
        {
          "output_type": "stream",
          "name": "stdout",
          "text": [
            "parents: ['usual' 'pretentious' 'great_pret'] \n",
            "\n",
            "has_nurs: ['proper' 'less_proper' 'improper' 'critical' 'very_crit'] \n",
            "\n",
            "form: ['complete' 'completed' 'incomplete' 'foster'] \n",
            "\n",
            "children: ['1' '2' '3' 'more'] \n",
            "\n",
            "housing: ['convenient' 'less_conv' 'critical'] \n",
            "\n",
            "finance: ['convenient' 'inconv'] \n",
            "\n",
            "social: ['nonprob' 'slightly_prob' 'problematic'] \n",
            "\n",
            "health: ['priority' 'not_recom' 'recommended'] \n",
            "\n"
          ]
        }
      ],
      "source": [
        "# kategori tiap fitur\n",
        "for col in X.columns:\n",
        "    print(f\"{col}: {X[col].unique()} \\n\")"
      ]
    },
    {
      "cell_type": "code",
      "execution_count": 9,
      "metadata": {
        "colab": {
          "base_uri": "https://localhost:8080/",
          "height": 335
        },
        "id": "4ojtOBRLVO5V",
        "outputId": "73625a67-f177-41bb-abfd-8fba3270211d"
      },
      "outputs": [
        {
          "output_type": "execute_result",
          "data": {
            "text/plain": [
              "parents     0\n",
              "has_nurs    0\n",
              "form        0\n",
              "children    0\n",
              "housing     0\n",
              "finance     0\n",
              "social      0\n",
              "health      0\n",
              "dtype: int64"
            ],
            "text/html": [
              "<div>\n",
              "<style scoped>\n",
              "    .dataframe tbody tr th:only-of-type {\n",
              "        vertical-align: middle;\n",
              "    }\n",
              "\n",
              "    .dataframe tbody tr th {\n",
              "        vertical-align: top;\n",
              "    }\n",
              "\n",
              "    .dataframe thead th {\n",
              "        text-align: right;\n",
              "    }\n",
              "</style>\n",
              "<table border=\"1\" class=\"dataframe\">\n",
              "  <thead>\n",
              "    <tr style=\"text-align: right;\">\n",
              "      <th></th>\n",
              "      <th>0</th>\n",
              "    </tr>\n",
              "  </thead>\n",
              "  <tbody>\n",
              "    <tr>\n",
              "      <th>parents</th>\n",
              "      <td>0</td>\n",
              "    </tr>\n",
              "    <tr>\n",
              "      <th>has_nurs</th>\n",
              "      <td>0</td>\n",
              "    </tr>\n",
              "    <tr>\n",
              "      <th>form</th>\n",
              "      <td>0</td>\n",
              "    </tr>\n",
              "    <tr>\n",
              "      <th>children</th>\n",
              "      <td>0</td>\n",
              "    </tr>\n",
              "    <tr>\n",
              "      <th>housing</th>\n",
              "      <td>0</td>\n",
              "    </tr>\n",
              "    <tr>\n",
              "      <th>finance</th>\n",
              "      <td>0</td>\n",
              "    </tr>\n",
              "    <tr>\n",
              "      <th>social</th>\n",
              "      <td>0</td>\n",
              "    </tr>\n",
              "    <tr>\n",
              "      <th>health</th>\n",
              "      <td>0</td>\n",
              "    </tr>\n",
              "  </tbody>\n",
              "</table>\n",
              "</div><br><label><b>dtype:</b> int64</label>"
            ]
          },
          "metadata": {},
          "execution_count": 9
        }
      ],
      "source": [
        "X.isnull().sum()"
      ]
    },
    {
      "cell_type": "code",
      "execution_count": 10,
      "metadata": {
        "colab": {
          "base_uri": "https://localhost:8080/",
          "height": 115
        },
        "id": "R8SW1UGWVUam",
        "outputId": "d2e358a7-f9e9-4a32-f2be-0beefddbb2d8"
      },
      "outputs": [
        {
          "output_type": "execute_result",
          "data": {
            "text/plain": [
              "class    0\n",
              "dtype: int64"
            ],
            "text/html": [
              "<div>\n",
              "<style scoped>\n",
              "    .dataframe tbody tr th:only-of-type {\n",
              "        vertical-align: middle;\n",
              "    }\n",
              "\n",
              "    .dataframe tbody tr th {\n",
              "        vertical-align: top;\n",
              "    }\n",
              "\n",
              "    .dataframe thead th {\n",
              "        text-align: right;\n",
              "    }\n",
              "</style>\n",
              "<table border=\"1\" class=\"dataframe\">\n",
              "  <thead>\n",
              "    <tr style=\"text-align: right;\">\n",
              "      <th></th>\n",
              "      <th>0</th>\n",
              "    </tr>\n",
              "  </thead>\n",
              "  <tbody>\n",
              "    <tr>\n",
              "      <th>class</th>\n",
              "      <td>0</td>\n",
              "    </tr>\n",
              "  </tbody>\n",
              "</table>\n",
              "</div><br><label><b>dtype:</b> int64</label>"
            ]
          },
          "metadata": {},
          "execution_count": 10
        }
      ],
      "source": [
        "y.isnull().sum()"
      ]
    },
    {
      "cell_type": "code",
      "execution_count": 11,
      "metadata": {
        "colab": {
          "base_uri": "https://localhost:8080/"
        },
        "id": "OvDNvUfFVXxc",
        "outputId": "dd099d38-9158-4ec0-fc1b-75d53fa64d27"
      },
      "outputs": [
        {
          "output_type": "stream",
          "name": "stdout",
          "text": [
            "0\n"
          ]
        }
      ],
      "source": [
        "print(X.duplicated().sum())"
      ]
    },
    {
      "cell_type": "code",
      "execution_count": 12,
      "metadata": {
        "colab": {
          "base_uri": "https://localhost:8080/"
        },
        "id": "mFPgRxkv2oN9",
        "outputId": "102a32a7-cca8-4305-d05d-3efb2e7aa479"
      },
      "outputs": [
        {
          "output_type": "stream",
          "name": "stderr",
          "text": [
            "<ipython-input-12-b7920e984b0c>:17: SettingWithCopyWarning: \n",
            "A value is trying to be set on a copy of a slice from a DataFrame.\n",
            "Try using .loc[row_indexer,col_indexer] = value instead\n",
            "\n",
            "See the caveats in the documentation: https://pandas.pydata.org/pandas-docs/stable/user_guide/indexing.html#returning-a-view-versus-a-copy\n",
            "  X['parents'] = X['parents'].map(parents_mapping)\n",
            "<ipython-input-12-b7920e984b0c>:18: SettingWithCopyWarning: \n",
            "A value is trying to be set on a copy of a slice from a DataFrame.\n",
            "Try using .loc[row_indexer,col_indexer] = value instead\n",
            "\n",
            "See the caveats in the documentation: https://pandas.pydata.org/pandas-docs/stable/user_guide/indexing.html#returning-a-view-versus-a-copy\n",
            "  X['has_nurs'] = X['has_nurs'].map(has_nurs_mapping)\n",
            "<ipython-input-12-b7920e984b0c>:19: SettingWithCopyWarning: \n",
            "A value is trying to be set on a copy of a slice from a DataFrame.\n",
            "Try using .loc[row_indexer,col_indexer] = value instead\n",
            "\n",
            "See the caveats in the documentation: https://pandas.pydata.org/pandas-docs/stable/user_guide/indexing.html#returning-a-view-versus-a-copy\n",
            "  X['form'] = X['form'].map(form_mapping)\n",
            "<ipython-input-12-b7920e984b0c>:20: SettingWithCopyWarning: \n",
            "A value is trying to be set on a copy of a slice from a DataFrame.\n",
            "Try using .loc[row_indexer,col_indexer] = value instead\n",
            "\n",
            "See the caveats in the documentation: https://pandas.pydata.org/pandas-docs/stable/user_guide/indexing.html#returning-a-view-versus-a-copy\n",
            "  X['children'] = X['children'].map(children_mapping)\n",
            "<ipython-input-12-b7920e984b0c>:21: SettingWithCopyWarning: \n",
            "A value is trying to be set on a copy of a slice from a DataFrame.\n",
            "Try using .loc[row_indexer,col_indexer] = value instead\n",
            "\n",
            "See the caveats in the documentation: https://pandas.pydata.org/pandas-docs/stable/user_guide/indexing.html#returning-a-view-versus-a-copy\n",
            "  X['housing'] = X['housing'].map(housing_mapping)\n",
            "<ipython-input-12-b7920e984b0c>:22: SettingWithCopyWarning: \n",
            "A value is trying to be set on a copy of a slice from a DataFrame.\n",
            "Try using .loc[row_indexer,col_indexer] = value instead\n",
            "\n",
            "See the caveats in the documentation: https://pandas.pydata.org/pandas-docs/stable/user_guide/indexing.html#returning-a-view-versus-a-copy\n",
            "  X['finance'] = X['finance'].map(finance_mapping)\n",
            "<ipython-input-12-b7920e984b0c>:23: SettingWithCopyWarning: \n",
            "A value is trying to be set on a copy of a slice from a DataFrame.\n",
            "Try using .loc[row_indexer,col_indexer] = value instead\n",
            "\n",
            "See the caveats in the documentation: https://pandas.pydata.org/pandas-docs/stable/user_guide/indexing.html#returning-a-view-versus-a-copy\n",
            "  X['social'] = X['social'].map(social_mapping)\n",
            "<ipython-input-12-b7920e984b0c>:24: SettingWithCopyWarning: \n",
            "A value is trying to be set on a copy of a slice from a DataFrame.\n",
            "Try using .loc[row_indexer,col_indexer] = value instead\n",
            "\n",
            "See the caveats in the documentation: https://pandas.pydata.org/pandas-docs/stable/user_guide/indexing.html#returning-a-view-versus-a-copy\n",
            "  X['health'] = X['health'].map(health_mapping)\n",
            "<ipython-input-12-b7920e984b0c>:25: SettingWithCopyWarning: \n",
            "A value is trying to be set on a copy of a slice from a DataFrame.\n",
            "Try using .loc[row_indexer,col_indexer] = value instead\n",
            "\n",
            "See the caveats in the documentation: https://pandas.pydata.org/pandas-docs/stable/user_guide/indexing.html#returning-a-view-versus-a-copy\n",
            "  y['class'] = y['class'].map(class_mapping)\n"
          ]
        }
      ],
      "source": [
        "# Label Encoding\n",
        "parents_mapping = {'usual':0, 'pretentious':1, 'great_pret':2}\n",
        "has_nurs_mapping = {'proper':0, 'less_proper':1, 'improper':2, 'critical':3, 'very_crit':4}\n",
        "form_mapping = {'complete':0, 'completed':1, 'incomplete':2, 'foster':3}\n",
        "children_mapping = {'1':0, '2':1, '3':2, 'more':3}\n",
        "housing_mapping = {'convenient':0, 'less_conv':1, 'critical':2}\n",
        "finance_mapping = {'convenient':0, 'inconv':1}\n",
        "social_mapping = {'nonprob':0, 'slightly_prob':1, 'problematic':2}\n",
        "health_mapping = {'recommended':0, 'priority':1, 'not_recom':2}\n",
        "class_mapping = {\n",
        "    'not_recom':0,\n",
        "    'very_recom':1,\n",
        "    'priority':2,\n",
        "    'spec_prior':3\n",
        "}\n",
        "\n",
        "X['parents'] = X['parents'].map(parents_mapping)\n",
        "X['has_nurs'] = X['has_nurs'].map(has_nurs_mapping)\n",
        "X['form'] = X['form'].map(form_mapping)\n",
        "X['children'] = X['children'].map(children_mapping)\n",
        "X['housing'] = X['housing'].map(housing_mapping)\n",
        "X['finance'] = X['finance'].map(finance_mapping)\n",
        "X['social'] = X['social'].map(social_mapping)\n",
        "X['health'] = X['health'].map(health_mapping)\n",
        "y['class'] = y['class'].map(class_mapping)\n",
        "\n"
      ]
    },
    {
      "cell_type": "code",
      "execution_count": 13,
      "metadata": {
        "colab": {
          "base_uri": "https://localhost:8080/"
        },
        "id": "7w12cWCEG6Xn",
        "outputId": "f5fb7cc7-6c0c-47ef-fa54-cae0df84c7cc"
      },
      "outputs": [
        {
          "output_type": "stream",
          "name": "stdout",
          "text": [
            "parents: [0 1 2] \n",
            "\n",
            "has_nurs: [0 1 2 3 4] \n",
            "\n",
            "form: [0 1 2 3] \n",
            "\n",
            "children: [0 1 2 3] \n",
            "\n",
            "housing: [0 1 2] \n",
            "\n",
            "finance: [0 1] \n",
            "\n",
            "social: [0 1 2] \n",
            "\n",
            "health: [1 2 0] \n",
            "\n"
          ]
        }
      ],
      "source": [
        "# kategori tiap fitur\n",
        "for col in X.columns:\n",
        "    print(f\"{col}: {X[col].unique()} \\n\")"
      ]
    },
    {
      "cell_type": "code",
      "execution_count": 14,
      "metadata": {
        "id": "6Zuxnv_e2vaj"
      },
      "outputs": [],
      "source": [
        "# split dulu\n",
        "X_train_val, X_test, y_train_val, y_test = train_test_split(X, y, test_size=0.2, random_state=42)\n",
        "X_train, X_val, y_train, y_val = train_test_split(X_train_val, y_train_val, test_size=0.25, random_state=42)\n"
      ]
    },
    {
      "cell_type": "code",
      "execution_count": 15,
      "metadata": {
        "colab": {
          "base_uri": "https://localhost:8080/"
        },
        "id": "8a6NSSyOAfia",
        "outputId": "e2b9f526-553d-4854-948f-57b6b66f90f6"
      },
      "outputs": [
        {
          "output_type": "stream",
          "name": "stdout",
          "text": [
            "X_train : (7774, 8)\n",
            "X_val : (2592, 8)\n",
            "X_test : (2592, 8)\n",
            "y_train : (7774, 1)\n",
            "y_val : (2592, 1)\n",
            "y_test : (2592, 1)\n"
          ]
        }
      ],
      "source": [
        "print(\"X_train :\", X_train.shape)\n",
        "print(\"X_val :\", X_val.shape)\n",
        "print(\"X_test :\",X_test.shape)\n",
        "print(\"y_train :\",y_train.shape)\n",
        "print(\"y_val :\",y_val.shape)\n",
        "print(\"y_test :\",y_test.shape)"
      ]
    },
    {
      "cell_type": "code",
      "execution_count": 16,
      "metadata": {
        "colab": {
          "base_uri": "https://localhost:8080/",
          "height": 241
        },
        "id": "ztrALe0hpLQB",
        "outputId": "f9a4b39c-f3b3-4bfc-cd2b-5624e085c24d"
      },
      "outputs": [
        {
          "output_type": "execute_result",
          "data": {
            "text/plain": [
              "class\n",
              "0        2639\n",
              "2        2550\n",
              "3        2387\n",
              "1         198\n",
              "Name: count, dtype: int64"
            ],
            "text/html": [
              "<div>\n",
              "<style scoped>\n",
              "    .dataframe tbody tr th:only-of-type {\n",
              "        vertical-align: middle;\n",
              "    }\n",
              "\n",
              "    .dataframe tbody tr th {\n",
              "        vertical-align: top;\n",
              "    }\n",
              "\n",
              "    .dataframe thead th {\n",
              "        text-align: right;\n",
              "    }\n",
              "</style>\n",
              "<table border=\"1\" class=\"dataframe\">\n",
              "  <thead>\n",
              "    <tr style=\"text-align: right;\">\n",
              "      <th></th>\n",
              "      <th>count</th>\n",
              "    </tr>\n",
              "    <tr>\n",
              "      <th>class</th>\n",
              "      <th></th>\n",
              "    </tr>\n",
              "  </thead>\n",
              "  <tbody>\n",
              "    <tr>\n",
              "      <th>0</th>\n",
              "      <td>2639</td>\n",
              "    </tr>\n",
              "    <tr>\n",
              "      <th>2</th>\n",
              "      <td>2550</td>\n",
              "    </tr>\n",
              "    <tr>\n",
              "      <th>3</th>\n",
              "      <td>2387</td>\n",
              "    </tr>\n",
              "    <tr>\n",
              "      <th>1</th>\n",
              "      <td>198</td>\n",
              "    </tr>\n",
              "  </tbody>\n",
              "</table>\n",
              "</div><br><label><b>dtype:</b> int64</label>"
            ]
          },
          "metadata": {},
          "execution_count": 16
        }
      ],
      "source": [
        "y_train.value_counts()"
      ]
    },
    {
      "cell_type": "code",
      "execution_count": 17,
      "metadata": {
        "id": "BAHVd_vn-70w"
      },
      "outputs": [],
      "source": [
        "# karena masih imbalance maka oversampling menggunakan SMOTE\n",
        "smote = SMOTE(random_state=42)\n",
        "X_train_sm, y_train_sm = smote.fit_resample(X_train, y_train)"
      ]
    },
    {
      "cell_type": "code",
      "execution_count": 18,
      "metadata": {
        "colab": {
          "base_uri": "https://localhost:8080/"
        },
        "id": "YvqURCpgkWR-",
        "outputId": "b316b5dc-3421-4cfc-fac7-065168fc2d52"
      },
      "outputs": [
        {
          "output_type": "stream",
          "name": "stdout",
          "text": [
            "X_train_sm : (10556, 8)\n",
            "X_val : (2592, 8)\n",
            "X_test : (2592, 8)\n",
            "y_train_sm : (10556, 1)\n",
            "y_val : (2592, 1)\n",
            "y_test : (2592, 1)\n"
          ]
        }
      ],
      "source": [
        "print(\"X_train_sm :\", X_train_sm.shape)\n",
        "print(\"X_val :\", X_val.shape)\n",
        "print(\"X_test :\",X_test.shape)\n",
        "print(\"y_train_sm :\",y_train_sm.shape)\n",
        "print(\"y_val :\",y_val.shape)\n",
        "print(\"y_test :\",y_test.shape)"
      ]
    },
    {
      "cell_type": "code",
      "execution_count": 19,
      "metadata": {
        "colab": {
          "base_uri": "https://localhost:8080/",
          "height": 241
        },
        "id": "JcPEV265q6Dm",
        "outputId": "72fe805d-e0e0-4117-87df-aee521e7ac8b"
      },
      "outputs": [
        {
          "output_type": "execute_result",
          "data": {
            "text/plain": [
              "class\n",
              "0        2639\n",
              "1        2639\n",
              "2        2639\n",
              "3        2639\n",
              "Name: count, dtype: int64"
            ],
            "text/html": [
              "<div>\n",
              "<style scoped>\n",
              "    .dataframe tbody tr th:only-of-type {\n",
              "        vertical-align: middle;\n",
              "    }\n",
              "\n",
              "    .dataframe tbody tr th {\n",
              "        vertical-align: top;\n",
              "    }\n",
              "\n",
              "    .dataframe thead th {\n",
              "        text-align: right;\n",
              "    }\n",
              "</style>\n",
              "<table border=\"1\" class=\"dataframe\">\n",
              "  <thead>\n",
              "    <tr style=\"text-align: right;\">\n",
              "      <th></th>\n",
              "      <th>count</th>\n",
              "    </tr>\n",
              "    <tr>\n",
              "      <th>class</th>\n",
              "      <th></th>\n",
              "    </tr>\n",
              "  </thead>\n",
              "  <tbody>\n",
              "    <tr>\n",
              "      <th>0</th>\n",
              "      <td>2639</td>\n",
              "    </tr>\n",
              "    <tr>\n",
              "      <th>1</th>\n",
              "      <td>2639</td>\n",
              "    </tr>\n",
              "    <tr>\n",
              "      <th>2</th>\n",
              "      <td>2639</td>\n",
              "    </tr>\n",
              "    <tr>\n",
              "      <th>3</th>\n",
              "      <td>2639</td>\n",
              "    </tr>\n",
              "  </tbody>\n",
              "</table>\n",
              "</div><br><label><b>dtype:</b> int64</label>"
            ]
          },
          "metadata": {},
          "execution_count": 19
        }
      ],
      "source": [
        "y_train_sm.value_counts()"
      ]
    },
    {
      "cell_type": "markdown",
      "metadata": {
        "id": "XY5CVDw16lWu"
      },
      "source": [
        "# Pembangunan Model Baseline"
      ]
    },
    {
      "cell_type": "markdown",
      "metadata": {
        "id": "rqTVks9V7nr9"
      },
      "source": [
        "## Logistic Regression"
      ]
    },
    {
      "cell_type": "code",
      "execution_count": 20,
      "metadata": {
        "colab": {
          "base_uri": "https://localhost:8080/"
        },
        "id": "KNGAufTM63CG",
        "outputId": "0adf90c6-9589-492c-8aef-ecd470e29a3d"
      },
      "outputs": [
        {
          "output_type": "stream",
          "name": "stdout",
          "text": [
            "Accuracy Score: 0.8908179012345679\n",
            "Classification Report:\n",
            "               precision    recall  f1-score   support\n",
            "\n",
            "           0       1.00      1.00      1.00       839\n",
            "           1       0.43      0.85      0.57        67\n",
            "           2       0.87      0.79      0.83       858\n",
            "           3       0.88      0.89      0.88       828\n",
            "\n",
            "    accuracy                           0.89      2592\n",
            "   macro avg       0.79      0.88      0.82      2592\n",
            "weighted avg       0.90      0.89      0.89      2592\n",
            "\n",
            "Confusion Matrix:\n",
            " [[839   0   0   0]\n",
            " [  0  57  10   0]\n",
            " [  0  77 678 103]\n",
            " [  0   0  93 735]]\n"
          ]
        },
        {
          "output_type": "stream",
          "name": "stderr",
          "text": [
            "/usr/local/lib/python3.11/dist-packages/sklearn/utils/validation.py:1408: DataConversionWarning: A column-vector y was passed when a 1d array was expected. Please change the shape of y to (n_samples, ), for example using ravel().\n",
            "  y = column_or_1d(y, warn=True)\n"
          ]
        }
      ],
      "source": [
        "pipe_lr = Pipeline([\n",
        "    ('scaler', StandardScaler()),\n",
        "    ('lr', LogisticRegression(random_state=42))\n",
        "])\n",
        "pipe_lr.fit(X_train_sm, y_train_sm)\n",
        "\n",
        "y_pred_lr = pipe_lr.predict(X_val)\n",
        "\n",
        "print(f\"Accuracy Score:\",accuracy_score(y_val, y_pred_lr))\n",
        "print(f\"Classification Report:\\n\",classification_report(y_val, y_pred_lr))\n",
        "print(f\"Confusion Matrix:\\n\",confusion_matrix(y_val, y_pred_lr))"
      ]
    },
    {
      "cell_type": "markdown",
      "metadata": {
        "id": "mwEfNeCMDkNP"
      },
      "source": [
        "## SVM"
      ]
    },
    {
      "cell_type": "code",
      "execution_count": 21,
      "metadata": {
        "colab": {
          "base_uri": "https://localhost:8080/"
        },
        "id": "IJowC6IEDWyz",
        "outputId": "c9d569eb-4ee6-4ef3-ce5a-2c7d5b0fe889"
      },
      "outputs": [
        {
          "output_type": "stream",
          "name": "stderr",
          "text": [
            "/usr/local/lib/python3.11/dist-packages/sklearn/utils/validation.py:1408: DataConversionWarning: A column-vector y was passed when a 1d array was expected. Please change the shape of y to (n_samples, ), for example using ravel().\n",
            "  y = column_or_1d(y, warn=True)\n"
          ]
        },
        {
          "output_type": "stream",
          "name": "stdout",
          "text": [
            "Accuracy Score: 0.9772376543209876\n",
            "Classification Report:\n",
            "               precision    recall  f1-score   support\n",
            "\n",
            "           0       1.00      1.00      1.00       839\n",
            "           1       0.88      0.97      0.92        67\n",
            "           2       0.99      0.95      0.96       858\n",
            "           3       0.96      0.99      0.97       828\n",
            "\n",
            "    accuracy                           0.98      2592\n",
            "   macro avg       0.95      0.98      0.96      2592\n",
            "weighted avg       0.98      0.98      0.98      2592\n",
            "\n",
            "Confusion Matrix:\n",
            " [[839   0   0   0]\n",
            " [  0  65   2   0]\n",
            " [  0   9 811  38]\n",
            " [  0   0  10 818]]\n"
          ]
        }
      ],
      "source": [
        "pipe_svm = Pipeline([\n",
        "    ('scaler', StandardScaler()),\n",
        "    ('svc', SVC(random_state=42,probability=True))\n",
        "])\n",
        "pipe_svm.fit(X_train_sm, y_train_sm)\n",
        "\n",
        "y_pred_svm = pipe_svm.predict(X_val)\n",
        "\n",
        "print(f\"Accuracy Score:\",accuracy_score(y_val, y_pred_svm))\n",
        "print(f\"Classification Report:\\n\",classification_report(y_val, y_pred_svm))\n",
        "print(f\"Confusion Matrix:\\n\",confusion_matrix(y_val, y_pred_svm))"
      ]
    },
    {
      "cell_type": "markdown",
      "metadata": {
        "id": "yzS8bLXmEnLV"
      },
      "source": [
        "## MLP"
      ]
    },
    {
      "cell_type": "code",
      "execution_count": 22,
      "metadata": {
        "colab": {
          "base_uri": "https://localhost:8080/"
        },
        "id": "7nuPFD8CEp8T",
        "outputId": "5e6b2bd7-369b-40c6-bdde-6e167bac0c84"
      },
      "outputs": [
        {
          "output_type": "stream",
          "name": "stderr",
          "text": [
            "/usr/local/lib/python3.11/dist-packages/sklearn/neural_network/_multilayer_perceptron.py:1124: DataConversionWarning: A column-vector y was passed when a 1d array was expected. Please change the shape of y to (n_samples, ), for example using ravel().\n",
            "  y = column_or_1d(y, warn=True)\n"
          ]
        },
        {
          "output_type": "stream",
          "name": "stdout",
          "text": [
            "Accuracy Score: 0.9972993827160493\n",
            "Classification Report:\n",
            "               precision    recall  f1-score   support\n",
            "\n",
            "           0       1.00      1.00      1.00       839\n",
            "           1       0.98      0.94      0.96        67\n",
            "           2       0.99      1.00      1.00       858\n",
            "           3       1.00      1.00      1.00       828\n",
            "\n",
            "    accuracy                           1.00      2592\n",
            "   macro avg       0.99      0.98      0.99      2592\n",
            "weighted avg       1.00      1.00      1.00      2592\n",
            "\n",
            "Confusion Matrix:\n",
            " [[839   0   0   0]\n",
            " [  0  63   4   0]\n",
            " [  0   1 857   0]\n",
            " [  0   0   2 826]]\n"
          ]
        },
        {
          "output_type": "stream",
          "name": "stderr",
          "text": [
            "/usr/local/lib/python3.11/dist-packages/sklearn/neural_network/_multilayer_perceptron.py:691: ConvergenceWarning: Stochastic Optimizer: Maximum iterations (200) reached and the optimization hasn't converged yet.\n",
            "  warnings.warn(\n"
          ]
        }
      ],
      "source": [
        "pipe_mlp = Pipeline([\n",
        "    ('scaler', StandardScaler()),\n",
        "    ('mlp', MLPClassifier(random_state=42))\n",
        "])\n",
        "pipe_mlp.fit(X_train_sm, y_train_sm)\n",
        "\n",
        "y_pred_mlp = pipe_mlp.predict(X_val)\n",
        "\n",
        "print(f\"Accuracy Score:\",accuracy_score(y_val, y_pred_mlp))\n",
        "print(f\"Classification Report:\\n\",classification_report(y_val, y_pred_mlp))\n",
        "print(f\"Confusion Matrix:\\n\",confusion_matrix(y_val, y_pred_mlp))"
      ]
    },
    {
      "cell_type": "markdown",
      "metadata": {
        "id": "4BznFvPV1Znu"
      },
      "source": [
        "# Eksplorasi Model"
      ]
    },
    {
      "cell_type": "code",
      "execution_count": 23,
      "metadata": {
        "id": "DR3jGUH8IUmg"
      },
      "outputs": [],
      "source": [
        "from sklearn.model_selection import GridSearchCV"
      ]
    },
    {
      "cell_type": "markdown",
      "metadata": {
        "id": "Tp1fzyf5G5Ja"
      },
      "source": [
        "## Logistic Regression"
      ]
    },
    {
      "cell_type": "code",
      "execution_count": 24,
      "metadata": {
        "colab": {
          "base_uri": "https://localhost:8080/"
        },
        "id": "j1OdacwljUsE",
        "outputId": "98f553d9-8d3e-404f-fd71-054ab3848e04"
      },
      "outputs": [
        {
          "output_type": "stream",
          "name": "stdout",
          "text": [
            "Fitting 5 folds for each of 60 candidates, totalling 300 fits\n",
            "\n",
            "--- Hasil Hyperparameter Tuning Logistic Regression ---\n",
            "Parameter terbaik Logistic Regression: {'lr__C': 0.1, 'lr__max_iter': 1000, 'lr__penalty': 'l1', 'lr__solver': 'saga'}\n",
            "Skor cross-validation terbaik Logistic Regression: 0.9054562231744254\n",
            "Validation Set Accuracy (Logistic Regression): 0.8904320987654321\n",
            "Classification Report:\n",
            "               precision    recall  f1-score   support\n",
            "\n",
            "           0       1.00      1.00      1.00       839\n",
            "           1       0.42      0.87      0.56        67\n",
            "           2       0.87      0.79      0.83       858\n",
            "           3       0.88      0.89      0.88       828\n",
            "\n",
            "    accuracy                           0.89      2592\n",
            "   macro avg       0.79      0.89      0.82      2592\n",
            "weighted avg       0.90      0.89      0.89      2592\n",
            "\n",
            "Confusion Matrix:\n",
            " [[839   0   0   0]\n",
            " [  0  58   9   0]\n",
            " [  0  81 676 101]\n",
            " [  0   0  93 735]]\n"
          ]
        },
        {
          "output_type": "stream",
          "name": "stderr",
          "text": [
            "/usr/local/lib/python3.11/dist-packages/sklearn/utils/validation.py:1408: DataConversionWarning: A column-vector y was passed when a 1d array was expected. Please change the shape of y to (n_samples, ), for example using ravel().\n",
            "  y = column_or_1d(y, warn=True)\n"
          ]
        }
      ],
      "source": [
        "param_grid_lr = {\n",
        "    'lr__C': [0.01, 0.1, 1, 10, 100],\n",
        "    'lr__solver': ['liblinear', 'saga'],\n",
        "    'lr__penalty': ['l1', 'l2'],\n",
        "    'lr__max_iter': [1000, 2000, 3000]\n",
        "}\n",
        "\n",
        "grid_search_lr = GridSearchCV(estimator=pipe_lr,\n",
        "                              param_grid=param_grid_lr,\n",
        "                              cv=5,\n",
        "                              scoring='accuracy',\n",
        "                              n_jobs=-1,\n",
        "                              verbose=1)\n",
        "\n",
        "grid_search_lr.fit(X_train_sm,y_train_sm)\n",
        "\n",
        "print(\"\\n--- Hasil Hyperparameter Tuning Logistic Regression ---\")\n",
        "print(\"Parameter terbaik Logistic Regression:\", grid_search_lr.best_params_)\n",
        "print(\"Skor cross-validation terbaik Logistic Regression:\", grid_search_lr.best_score_)\n",
        "best_lr = grid_search_lr.best_estimator_\n",
        "y_pred_lr_val = best_lr.predict(X_val)\n",
        "print(\"Validation Set Accuracy (Logistic Regression):\", accuracy_score(y_val, y_pred_lr_val))\n",
        "print(f\"Classification Report:\\n\",classification_report(y_val, y_pred_lr_val))\n",
        "print(f\"Confusion Matrix:\\n\",confusion_matrix(y_val, y_pred_lr_val))"
      ]
    },
    {
      "cell_type": "markdown",
      "metadata": {
        "id": "DcD8zby2G__y"
      },
      "source": [
        "## SVM"
      ]
    },
    {
      "cell_type": "code",
      "execution_count": 25,
      "metadata": {
        "colab": {
          "base_uri": "https://localhost:8080/"
        },
        "id": "3apC37x9IC_-",
        "outputId": "d9d64c37-1a05-4d26-c476-aa933b15611f"
      },
      "outputs": [
        {
          "output_type": "stream",
          "name": "stdout",
          "text": [
            "Fitting 5 folds for each of 40 candidates, totalling 200 fits\n"
          ]
        },
        {
          "output_type": "stream",
          "name": "stderr",
          "text": [
            "/usr/local/lib/python3.11/dist-packages/sklearn/utils/validation.py:1408: DataConversionWarning: A column-vector y was passed when a 1d array was expected. Please change the shape of y to (n_samples, ), for example using ravel().\n",
            "  y = column_or_1d(y, warn=True)\n"
          ]
        },
        {
          "output_type": "stream",
          "name": "stdout",
          "text": [
            "\n",
            "--- Hasil Hyperparameter Tuning SVM ---\n",
            "Parameter terbaik SVM: {'svc__C': 100, 'svc__gamma': 'scale', 'svc__kernel': 'rbf'}\n",
            "Skor cross-validation terbaik SVM: 0.9954529305370139\n",
            "Validation Set Accuracy (SVM): 0.998070987654321\n",
            "Classification Report:\n",
            "               precision    recall  f1-score   support\n",
            "\n",
            "           0       1.00      1.00      1.00       839\n",
            "           1       1.00      1.00      1.00        67\n",
            "           2       1.00      1.00      1.00       858\n",
            "           3       1.00      1.00      1.00       828\n",
            "\n",
            "    accuracy                           1.00      2592\n",
            "   macro avg       1.00      1.00      1.00      2592\n",
            "weighted avg       1.00      1.00      1.00      2592\n",
            "\n",
            "Confusion Matrix:\n",
            " [[839   0   0   0]\n",
            " [  0  67   0   0]\n",
            " [  0   0 856   2]\n",
            " [  0   0   3 825]]\n"
          ]
        }
      ],
      "source": [
        "param_grid_svm = {\n",
        "    'svc__C': [0.1, 1, 10, 100],\n",
        "    'svc__kernel': ['linear', 'rbf'],\n",
        "    'svc__gamma': ['scale', 'auto', 0.01, 0.1, 1]\n",
        "}\n",
        "\n",
        "grid_search_svm = GridSearchCV(estimator=pipe_svm,\n",
        "                               param_grid=param_grid_svm,\n",
        "                               cv=5,\n",
        "                               scoring='accuracy',\n",
        "                               n_jobs=-1,\n",
        "                               verbose=1)\n",
        "\n",
        "grid_search_svm.fit(X_train_sm, y_train_sm)\n",
        "\n",
        "print(\"\\n--- Hasil Hyperparameter Tuning SVM ---\")\n",
        "print(\"Parameter terbaik SVM:\", grid_search_svm.best_params_)\n",
        "print(\"Skor cross-validation terbaik SVM:\", grid_search_svm.best_score_)\n",
        "best_svm = grid_search_svm.best_estimator_\n",
        "y_pred_svm_val = best_svm.predict(X_val)\n",
        "print(\"Validation Set Accuracy (SVM):\", accuracy_score(y_val, y_pred_svm_val))\n",
        "print(f\"Classification Report:\\n\",classification_report(y_val, y_pred_svm_val))\n",
        "print(f\"Confusion Matrix:\\n\",confusion_matrix(y_val, y_pred_svm_val))\n"
      ]
    },
    {
      "cell_type": "markdown",
      "metadata": {
        "id": "9X-ztp5MHCt_"
      },
      "source": [
        "## MLP"
      ]
    },
    {
      "cell_type": "code",
      "execution_count": 26,
      "metadata": {
        "colab": {
          "base_uri": "https://localhost:8080/"
        },
        "id": "GaZSR2_1m32J",
        "outputId": "dd827e98-a453-4302-e7b4-bec50f622d87"
      },
      "outputs": [
        {
          "output_type": "stream",
          "name": "stdout",
          "text": [
            "Fitting 5 folds for each of 108 candidates, totalling 540 fits\n"
          ]
        },
        {
          "output_type": "stream",
          "name": "stderr",
          "text": [
            "/usr/local/lib/python3.11/dist-packages/sklearn/neural_network/_multilayer_perceptron.py:1124: DataConversionWarning: A column-vector y was passed when a 1d array was expected. Please change the shape of y to (n_samples, ), for example using ravel().\n",
            "  y = column_or_1d(y, warn=True)\n"
          ]
        },
        {
          "output_type": "stream",
          "name": "stdout",
          "text": [
            "\n",
            "--- Hasil Hyperparameter Tuning MLP ---\n",
            "Parameter terbaik MLP: {'mlp__activation': 'tanh', 'mlp__alpha': 0.01, 'mlp__hidden_layer_sizes': (50, 25), 'mlp__learning_rate_init': 0.01, 'mlp__max_iter': 200}\n",
            "Skor cross-validation terbaik MLP: 0.9995262908574135\n",
            "Validation Set Accuracy (MLP): 1.0\n",
            "Classification Report:\n",
            "               precision    recall  f1-score   support\n",
            "\n",
            "           0       1.00      1.00      1.00       839\n",
            "           1       1.00      1.00      1.00        67\n",
            "           2       1.00      1.00      1.00       858\n",
            "           3       1.00      1.00      1.00       828\n",
            "\n",
            "    accuracy                           1.00      2592\n",
            "   macro avg       1.00      1.00      1.00      2592\n",
            "weighted avg       1.00      1.00      1.00      2592\n",
            "\n",
            "Confusion Matrix:\n",
            " [[839   0   0   0]\n",
            " [  0  67   0   0]\n",
            " [  0   0 858   0]\n",
            " [  0   0   0 828]]\n"
          ]
        }
      ],
      "source": [
        "param_grid_mlp = {\n",
        "    'mlp__hidden_layer_sizes': [(50,), (100,), (50,25)],\n",
        "    'mlp__activation': ['relu', 'tanh'],\n",
        "    'mlp__alpha': [0.0001, 0.001, 0.01],\n",
        "    'mlp__learning_rate_init': [0.001, 0.01],\n",
        "    'mlp__max_iter': [200, 300, 400]\n",
        "}\n",
        "\n",
        "grid_search_mlp = GridSearchCV(estimator=pipe_mlp,\n",
        "                               param_grid=param_grid_mlp,\n",
        "                               cv=5,\n",
        "                               scoring='accuracy',\n",
        "                               n_jobs=-1,\n",
        "                               verbose=1)\n",
        "\n",
        "grid_search_mlp.fit(X_train_sm, y_train_sm)\n",
        "\n",
        "print(\"\\n--- Hasil Hyperparameter Tuning MLP ---\")\n",
        "print(\"Parameter terbaik MLP:\", grid_search_mlp.best_params_)\n",
        "print(\"Skor cross-validation terbaik MLP:\", grid_search_mlp.best_score_)\n",
        "best_mlp = grid_search_mlp.best_estimator_\n",
        "y_pred_mlp_val = best_mlp.predict(X_val)\n",
        "print(\"Validation Set Accuracy (MLP):\", accuracy_score(y_val, y_pred_mlp_val))\n",
        "print(f\"Classification Report:\\n\",classification_report(y_val, y_pred_mlp_val))\n",
        "print(f\"Confusion Matrix:\\n\",confusion_matrix(y_val, y_pred_mlp_val))\n"
      ]
    },
    {
      "cell_type": "markdown",
      "metadata": {
        "id": "hkIOmFj7J-i6"
      },
      "source": [
        "# Evaluasi"
      ]
    },
    {
      "cell_type": "code",
      "execution_count": 27,
      "metadata": {
        "colab": {
          "base_uri": "https://localhost:8080/"
        },
        "id": "FFD3zA3oJ9tk",
        "outputId": "3507d525-f25a-4924-ab12-1d509f2d1f85"
      },
      "outputs": [
        {
          "output_type": "stream",
          "name": "stdout",
          "text": [
            "\n",
            "--- Logistic Regression ---\n",
            "Akurasi Keseluruhan: 0.8970\n",
            "\n",
            "Laporan Klasifikasi:\n",
            "              precision    recall  f1-score   support\n",
            "\n",
            "           0       1.00      1.00      1.00       842\n",
            "           1       0.40      0.87      0.55        63\n",
            "           2       0.88      0.80      0.84       858\n",
            "           3       0.89      0.90      0.89       829\n",
            "\n",
            "    accuracy                           0.90      2592\n",
            "   macro avg       0.79      0.89      0.82      2592\n",
            "weighted avg       0.91      0.90      0.90      2592\n",
            "\n",
            "\n",
            "--- SVM ---\n",
            "Akurasi Keseluruhan: 0.9981\n",
            "\n",
            "Laporan Klasifikasi:\n",
            "              precision    recall  f1-score   support\n",
            "\n",
            "           0       1.00      1.00      1.00       842\n",
            "           1       0.98      1.00      0.99        63\n",
            "           2       1.00      1.00      1.00       858\n",
            "           3       1.00      1.00      1.00       829\n",
            "\n",
            "    accuracy                           1.00      2592\n",
            "   macro avg       0.99      1.00      1.00      2592\n",
            "weighted avg       1.00      1.00      1.00      2592\n",
            "\n",
            "\n",
            "--- MLP ---\n",
            "Akurasi Keseluruhan: 0.9996\n",
            "\n",
            "Laporan Klasifikasi:\n",
            "              precision    recall  f1-score   support\n",
            "\n",
            "           0       1.00      1.00      1.00       842\n",
            "           1       1.00      1.00      1.00        63\n",
            "           2       1.00      1.00      1.00       858\n",
            "           3       1.00      1.00      1.00       829\n",
            "\n",
            "    accuracy                           1.00      2592\n",
            "   macro avg       1.00      1.00      1.00      2592\n",
            "weighted avg       1.00      1.00      1.00      2592\n",
            "\n"
          ]
        }
      ],
      "source": [
        "models = {\"Logistic Regression\": best_lr, \"SVM\": best_svm, \"MLP\": best_mlp}\n",
        "\n",
        "for name, model in models.items():\n",
        "    y_pred = model.predict(X_test)\n",
        "\n",
        "    print(f\"\\n--- {name} ---\")\n",
        "    print(f\"Akurasi Keseluruhan: {accuracy_score(y_test, y_pred):.4f}\")\n",
        "    print(\"\\nLaporan Klasifikasi:\")\n",
        "    print(classification_report(y_test, y_pred))"
      ]
    },
    {
      "cell_type": "code",
      "execution_count": 28,
      "metadata": {
        "colab": {
          "base_uri": "https://localhost:8080/",
          "height": 744
        },
        "id": "9NxjhV3gKrMS",
        "outputId": "27b70df3-14b4-44e5-c3a4-0bfa81e5d347"
      },
      "outputs": [
        {
          "output_type": "stream",
          "name": "stdout",
          "text": [
            "\n",
            "--- Confusion Matrix: Logistic Regression ---\n",
            "[[842   0   0   0]\n",
            " [  0  55   8   0]\n",
            " [  0  82 683  93]\n",
            " [  0   0  84 745]]\n",
            "\n",
            "--- Confusion Matrix: SVM ---\n",
            "[[842   0   0   0]\n",
            " [  0  63   0   0]\n",
            " [  0   1 855   2]\n",
            " [  0   0   2 827]]\n",
            "\n",
            "--- Confusion Matrix: MLP ---\n",
            "[[842   0   0   0]\n",
            " [  0  63   0   0]\n",
            " [  0   0 857   1]\n",
            " [  0   0   0 829]]\n"
          ]
        },
        {
          "output_type": "display_data",
          "data": {
            "text/plain": [
              "<Figure size 1800x500 with 6 Axes>"
            ],
            "image/png": "[encoded data removed]"
          },
          "metadata": {}
        }
      ],
      "source": [
        "fig, axes = plt.subplots(1, 3, figsize=(6 * 3, 5))\n",
        "\n",
        "i = 0\n",
        "for name, model in models.items():\n",
        "    y_pred = model.predict(X_test)\n",
        "    cm = confusion_matrix(y_test, y_pred)\n",
        "    disp = ConfusionMatrixDisplay(confusion_matrix=cm)\n",
        "\n",
        "    print(f\"\\n--- Confusion Matrix: {name} ---\")\n",
        "    print(cm)\n",
        "\n",
        "    disp.plot(ax=axes[i], cmap='Blues')\n",
        "    axes[i].set_title(f'{name}')\n",
        "    i += 1\n",
        "\n",
        "plt.suptitle('A', fontsize=16, y=1.02)\n",
        "plt.tight_layout()\n",
        "plt.show()\n"
      ]
    },
    {
      "cell_type": "code",
      "execution_count": 29,
      "metadata": {
        "colab": {
          "base_uri": "https://localhost:8080/",
          "height": 868
        },
        "id": "Z1_Tkr5uMaCQ",
        "outputId": "6a53118a-d47f-4bbe-e68c-e4e77caaabb8"
      },
      "outputs": [
        {
          "output_type": "stream",
          "name": "stdout",
          "text": [
            "Dataset Anda memiliki 4 kelas: [np.int64(0), np.int64(1), np.int64(2), np.int64(3)]\n",
            "AUC Macro - Logistic Regression: 0.983\n",
            "AUC Macro - SVM: 1.000\n",
            "AUC Macro - MLP: 1.000\n"
          ]
        },
        {
          "output_type": "display_data",
          "data": {
            "text/plain": [
              "<Figure size 1200x900 with 1 Axes>"
            ],
            "image/png": "[encoded data removed]"
          },
          "metadata": {}
        }
      ],
      "source": [
        "classes = np.unique(y_test)\n",
        "n_classes = len(classes)\n",
        "print(f\"Dataset Anda memiliki {n_classes} kelas: {list(classes)}\")\n",
        "\n",
        "y_test_binarized = label_binarize(y_test, classes=classes)\n",
        "\n",
        "plt.figure(figsize=(12, 9))\n",
        "\n",
        "colors_rgb = [np.random.rand(3,) for _ in range(n_classes)]\n",
        "\n",
        "roc_auc_scores = {} # Simpan skor AUC (Macro)\n",
        "\n",
        "for (name, model), color in zip(models.items(), colors_rgb):\n",
        "    y_score = None\n",
        "    if hasattr(model, \"predict_proba\"):\n",
        "        y_score = model.predict_proba(X_test)\n",
        "        # Pastikan jumlah kolom probabilitas = jumlah kelas\n",
        "        if y_score.shape[1] != n_classes:\n",
        "            print(f\"Peringatan: {name} predict_proba tidak menghasilkan {n_classes} kolom. Skipping.\")\n",
        "            continue\n",
        "    else:\n",
        "        print(f\"Skipping ROC untuk {name} karena tidak ada predict_proba(). (Pastikan SVM pakai probability=True)\")\n",
        "        continue\n",
        "\n",
        "    # Menghitung ROC dan AUC untuk setiap kelas (OvR)\n",
        "    fpr = dict()\n",
        "    tpr = dict()\n",
        "    roc_auc = dict()\n",
        "    for i in range(n_classes):\n",
        "        fpr[i], tpr[i], _ = roc_curve(y_test_binarized[:, i], y_score[:, i])\n",
        "        roc_auc[i] = auc(fpr[i], tpr[i])\n",
        "\n",
        "    # Meenghitung Macro-average ROC\n",
        "    all_fpr = np.unique(np.concatenate([fpr[i] for i in range(n_classes)]))\n",
        "    mean_tpr = np.zeros_like(all_fpr)\n",
        "    for i in range(n_classes):\n",
        "        mean_tpr += np.interp(all_fpr, fpr[i], tpr[i])\n",
        "    mean_tpr /= n_classes\n",
        "    fpr[\"macro\"] = all_fpr\n",
        "    tpr[\"macro\"] = mean_tpr\n",
        "    roc_auc[\"macro\"] = auc(fpr[\"macro\"], tpr[\"macro\"])\n",
        "    roc_auc_scores[name] = roc_auc[\"macro\"]\n",
        "\n",
        "    # Plot Macro-average ROC\n",
        "    plt.plot(\n",
        "        fpr[\"macro\"],\n",
        "        tpr[\"macro\"],\n",
        "        label=f'{name} (Macro-AUC = {roc_auc[\"macro\"]:.3f})',\n",
        "        color=color,\n",
        "        linestyle=':',\n",
        "        linewidth=3,\n",
        "    )\n",
        "\n",
        "    print(f\"AUC Macro - {name}: {roc_auc['macro']:.3f}\")\n",
        "\n",
        "\n",
        "# Plot garis acak\n",
        "plt.plot([0, 1], [0, 1], 'k--', label='Garis Acak (AUC = 0.50)')\n",
        "plt.xlim([0.0, 1.0])\n",
        "plt.ylim([0.0, 1.05])\n",
        "plt.xlabel('False Positive Rate')\n",
        "plt.ylabel('True Positive Rate (Recall)')\n",
        "plt.title('Perbandingan Kurva ROC (Macro Average) untuk Multi-Kelas')\n",
        "plt.legend(loc=\"lower right\")\n",
        "plt.grid(True)\n",
        "plt.show()"
      ]
    },
    {
      "cell_type": "code",
      "execution_count": 30,
      "metadata": {
        "colab": {
          "base_uri": "https://localhost:8080/",
          "height": 540
        },
        "id": "aG7y-HoCOVfk",
        "outputId": "7450c53d-e4ed-4bbf-aee9-caa9b749b0a7"
      },
      "outputs": [
        {
          "output_type": "stream",
          "name": "stderr",
          "text": [
            "<ipython-input-30-fb0534ed46df>:5: FutureWarning: \n",
            "\n",
            "Passing `palette` without assigning `hue` is deprecated and will be removed in v0.14.0. Assign the `y` variable to `hue` and set `legend=False` for the same effect.\n",
            "\n",
            "  sns.barplot(x='AUC Score', y='Model', data=auc_df, palette='viridis')\n"
          ]
        },
        {
          "output_type": "display_data",
          "data": {
            "text/plain": [
              "<Figure size 800x450 with 1 Axes>"
            ],
            "image/png": "[encoded data removed]"
          },
          "metadata": {}
        }
      ],
      "source": [
        "auc_df = pd.DataFrame(list(roc_auc_scores.items()), columns=['Model', 'AUC Score'])\n",
        "auc_df = auc_df.sort_values(by='AUC Score', ascending=False)\n",
        "\n",
        "plt.figure(figsize=(8, max(4, 3 * 1.5))) # Ukuran dinamis\n",
        "sns.barplot(x='AUC Score', y='Model', data=auc_df, palette='viridis')\n",
        "plt.title('Perbandingan Skor AUC Antar Model')\n",
        "plt.xlabel('Area Under Curve (AUC)')\n",
        "plt.ylabel('Model')\n",
        "plt.xlim(min(0.5, auc_df['AUC Score'].min() - 0.05), 1.0) # Batas x dinamis\n",
        "\n",
        "for index, value in enumerate(auc_df['AUC Score']):\n",
        "    plt.text(value + 0.005, index, f'{value:.3f}', va='center') # Tampilkan nilai\n",
        "\n",
        "plt.show()"
      ]
    },
    {
      "cell_type": "code",
      "source": [
        "!pip install joblib"
      ],
      "metadata": {
        "colab": {
          "base_uri": "https://localhost:8080/"
        },
        "id": "xPd-8rHHThYx",
        "outputId": "253572eb-1705-4346-d92b-06afc610a42e"
      },
      "execution_count": 31,
      "outputs": [
        {
          "output_type": "stream",
          "name": "stdout",
          "text": [
            "Requirement already satisfied: joblib in /usr/local/lib/python3.11/dist-packages (1.5.0)\n"
          ]
        }
      ]
    },
    {
      "cell_type": "code",
      "source": [
        "import joblib\n",
        "joblib.dump(best_mlp, 'best_mlp_model.pkl')"
      ],
      "metadata": {
        "colab": {
          "base_uri": "https://localhost:8080/"
        },
        "id": "ZIS6EOdPTnhE",
        "outputId": "f24b5d57-719e-40c0-932d-96c2413745f8"
      },
      "execution_count": 34,
      "outputs": [
        {
          "output_type": "execute_result",
          "data": {
            "text/plain": [
              "['best_mlp_model.pkl']"
            ]
          },
          "metadata": {},
          "execution_count": 34
        }
      ]
    }
  ],
  "metadata": {
    "accelerator": "GPU",
    "colab": {
      "gpuType": "T4",
      "provenance": []
    },
    "kernelspec": {
      "display_name": "Python 3",
      "name": "python3"
    },
    "language_info": {
      "name": "python"
    }
  },
  "nbformat": 4,
  "nbformat_minor": 0
}